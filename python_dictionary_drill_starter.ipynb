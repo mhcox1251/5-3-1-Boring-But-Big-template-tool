{
  "nbformat": 4,
  "nbformat_minor": 0,
  "metadata": {
    "kernelspec": {
      "display_name": "Python 3",
      "language": "python",
      "name": "python3"
    },
    "language_info": {
      "codemirror_mode": {
        "name": "ipython",
        "version": 3
      },
      "file_extension": ".py",
      "mimetype": "text/x-python",
      "name": "python",
      "nbconvert_exporter": "python",
      "pygments_lexer": "ipython3",
      "version": "3.7.0"
    },
    "colab": {
      "name": "python_dictionary_drill_starter.ipynb",
      "provenance": [],
      "include_colab_link": true
    }
  },
  "cells": [
    {
      "cell_type": "markdown",
      "metadata": {
        "id": "view-in-github",
        "colab_type": "text"
      },
      "source": [
        "<a href=\"https://colab.research.google.com/github/mhcox1251/5-3-1-Boring-But-Big-template-tool/blob/master/python_dictionary_drill_starter.ipynb\" target=\"_parent\"><img src=\"https://colab.research.google.com/assets/colab-badge.svg\" alt=\"Open In Colab\"/></a>"
      ]
    },
    {
      "cell_type": "markdown",
      "metadata": {
        "id": "WeBqMr42Dcul",
        "colab_type": "text"
      },
      "source": [
        "## 1: `fillable`\n",
        "\n",
        "You're running an online business and a big part of your day is fulfilling orders. As your volume picks up that's been taking more of your time, and unfortunately lately you've been running into situations where you take an order but can't fulfill it.\n",
        "\n",
        "You've decided to write a function `fillable` that takes three arguments: a dictionary stock representing all the merchandise you have in stock, a string merch representing the thing your customer wants to buy, and an integer `n` representing the number of units of merch they would like to buy. Your function should return `True` if you have the merchandise in stock to complete the sale, otherwise it should return `False`.\n",
        "\n",
        "Valid data will always be passed in and n will always be >= 1."
      ]
    },
    {
      "cell_type": "code",
      "metadata": {
        "id": "_Cyvn5fgDcuo",
        "colab_type": "code",
        "outputId": "6eae2b48-2963-45f2-b93a-113628d6cf1e",
        "colab": {
          "base_uri": "https://localhost:8080/",
          "height": 52
        }
      },
      "source": [
        "def fillable(stock, merch_purchased, n):\n",
        "  if merch_purchased in stock:\n",
        "    return stock[merch_purchased] >= n\n",
        "  else:\n",
        "    return  print('{} not in stock.'.format(merch_purchased))\n",
        "\n",
        "merch_stock = {\"apples\": 5, \"oranges\": 2, \"pears\": 10, \"kiwi\": 3}\n",
        "\n",
        "print(fillable(merch_stock, \"avocado\", 5))"
      ],
      "execution_count": 0,
      "outputs": [
        {
          "output_type": "stream",
          "text": [
            "avocado not in stock.\n",
            "None\n"
          ],
          "name": "stdout"
        }
      ]
    },
    {
      "cell_type": "markdown",
      "metadata": {
        "id": "dCCm2KqhDcur",
        "colab_type": "text"
      },
      "source": [
        "## 2: user_contacts\n",
        "\n",
        "You're putting together contact information for all the users of your website to ship them a small gift. You queried your database and got back a list of users, where each user is another list with up to two items: a string representing the user's name and their shipping zip code. Example data might look like:\n",
        "\n",
        "```python\n",
        "[[\"Grae Drake\", 98110], [\"Bethany Kok\"], [\"Alex Nussbacher\", 94101], [\"Darrell Silver\", 11201]]\n",
        "```\n",
        "\n",
        "Notice that one of the users above has a name but doesn't have a zip code.\n",
        "\n",
        "Write a function `user_contacts` that takes a two-dimensional list like the one above and returns a dictionary with an item for each user where the key is the user's name and the value is the user's zip code. If your data doesn't include a zip code then the value should be `None`.\n",
        "\n",
        "For example, using the input above, user_contacts would return this dictionary:\n",
        "\n",
        "```python\n",
        "{\n",
        "    \"Grae Drake\": 98110,\n",
        "    \"Bethany Kok\": None,\n",
        "    \"Alex Nussbacher\": 94101,\n",
        "    \"Darrell Silver\": 11201,    \n",
        "}\n",
        "```\n",
        "\n",
        "You don't have to worry about leading zeros in zip codes."
      ]
    },
    {
      "cell_type": "code",
      "metadata": {
        "id": "STrSDhnB9Ikk",
        "colab_type": "code",
        "outputId": "9579da06-6e3b-4189-f711-2f8dd0faabaf",
        "colab": {
          "base_uri": "https://localhost:8080/",
          "height": 34
        }
      },
      "source": [
        "def user_contacts(users): \n",
        "  data = {} \n",
        "  for user in users: \n",
        "    if len(user) > 1: \n",
        "      data[user[0]] = user[1] \n",
        "    else: data[user[0]] = None\n",
        "  return data\n",
        "\n",
        "users = [[\"Grae Drake\", 98110], [\"Bethany Kok\"], [\"Alex Nussbacher\", 94101], [\"Darrell Silver\", 11201]]\n",
        "print(user_contacts(users)) "
      ],
      "execution_count": 0,
      "outputs": [
        {
          "output_type": "stream",
          "text": [
            "{'Grae Drake': 98110, 'Bethany Kok': None, 'Alex Nussbacher': 94101, 'Darrell Silver': 11201}\n"
          ],
          "name": "stdout"
        }
      ]
    },
    {
      "cell_type": "markdown",
      "metadata": {
        "id": "MGIYgGpTI8uk",
        "colab_type": "text"
      },
      "source": [
        ""
      ]
    },
    {
      "cell_type": "code",
      "metadata": {
        "id": "NM0FwnjfDcus",
        "colab_type": "code",
        "colab": {}
      },
      "source": [
        "# again, i don't know how to access values in sub lists.\n",
        "#\n",
        "def Convert(lst): \n",
        "    res_dct = {lst[i]: lst[i + 1] for i in range(0, len(lst), 2)} \n",
        "    return res_dct \n",
        "          \n",
        "# Driver code \n",
        "lst = ['a', 1, 'b', 2, 'c', 3] \n",
        "print(Convert(lst)) \n",
        "\n",
        "###\n",
        "def user_contacts(my_list):\n",
        "  convert_dict = {my_list[i][0]: my_list[i][1] for i in range(0, len(my_list), 2)}\n",
        "  return convert_dict\n",
        "\n",
        "\n",
        "\n",
        "  for key in my_list:\n",
        "    if key not in B:\n",
        "        B[key] = missing_value\n",
        "    if n[0][1] = None:\n",
        "      customers\n",
        "    customers = {\n",
        "    my_list[n][0]: my_list[n][1]\n",
        "  }\n",
        "  return customers\n",
        "\n",
        "users = [[\"Grae Drake\", 98110], [\"Bethany Kok\"], [\"Alex Nussbacher\", 94101], [\"Darrell Silver\", 11201]]\n",
        "\n",
        "user_contacts(users)"
      ],
      "execution_count": 0,
      "outputs": []
    }
  ]
}